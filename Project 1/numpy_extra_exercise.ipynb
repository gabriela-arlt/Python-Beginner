{
 "cells": [
  {
   "cell_type": "markdown",
   "metadata": {},
   "source": [
    "#### 2. Print the numpy version and the configuration "
   ]
  },
  {
   "cell_type": "code",
   "execution_count": 1,
   "metadata": {},
   "outputs": [
    {
     "name": "stdout",
     "output_type": "stream",
     "text": [
      "1.24.3\n"
     ]
    }
   ],
   "source": [
    "import numpy as np\n",
    "print(np.__version__)"
   ]
  },
  {
   "cell_type": "code",
   "execution_count": 2,
   "metadata": {},
   "outputs": [
    {
     "name": "stdout",
     "output_type": "stream",
     "text": [
      "blas_armpl_info:\n",
      "  NOT AVAILABLE\n",
      "blas_mkl_info:\n",
      "    libraries = ['mkl_rt']\n",
      "    library_dirs = ['C:/Users/gabb_/anaconda3\\\\Library\\\\lib']\n",
      "    define_macros = [('SCIPY_MKL_H', None), ('HAVE_CBLAS', None)]\n",
      "    include_dirs = ['C:/Users/gabb_/anaconda3\\\\Library\\\\include']\n",
      "blas_opt_info:\n",
      "    libraries = ['mkl_rt']\n",
      "    library_dirs = ['C:/Users/gabb_/anaconda3\\\\Library\\\\lib']\n",
      "    define_macros = [('SCIPY_MKL_H', None), ('HAVE_CBLAS', None)]\n",
      "    include_dirs = ['C:/Users/gabb_/anaconda3\\\\Library\\\\include']\n",
      "lapack_armpl_info:\n",
      "  NOT AVAILABLE\n",
      "lapack_mkl_info:\n",
      "    libraries = ['mkl_rt']\n",
      "    library_dirs = ['C:/Users/gabb_/anaconda3\\\\Library\\\\lib']\n",
      "    define_macros = [('SCIPY_MKL_H', None), ('HAVE_CBLAS', None)]\n",
      "    include_dirs = ['C:/Users/gabb_/anaconda3\\\\Library\\\\include']\n",
      "lapack_opt_info:\n",
      "    libraries = ['mkl_rt']\n",
      "    library_dirs = ['C:/Users/gabb_/anaconda3\\\\Library\\\\lib']\n",
      "    define_macros = [('SCIPY_MKL_H', None), ('HAVE_CBLAS', None)]\n",
      "    include_dirs = ['C:/Users/gabb_/anaconda3\\\\Library\\\\include']\n",
      "Supported SIMD extensions in this NumPy install:\n",
      "    baseline = SSE,SSE2,SSE3\n",
      "    found = SSSE3,SSE41,POPCNT,SSE42,AVX,F16C,FMA3,AVX2,AVX512F,AVX512CD,AVX512_SKX,AVX512_CLX,AVX512_CNL,AVX512_ICL\n",
      "    not found = \n",
      "None\n"
     ]
    }
   ],
   "source": [
    "print(np.show_config())"
   ]
  },
  {
   "cell_type": "markdown",
   "metadata": {},
   "source": [
    "#### 3. Create a null vector of size 10"
   ]
  },
  {
   "cell_type": "code",
   "execution_count": 3,
   "metadata": {},
   "outputs": [],
   "source": [
    "def null_array(n):\n",
    "\n",
    "    x = np.zeros(n)\n",
    "\n",
    "    return x"
   ]
  },
  {
   "cell_type": "code",
   "execution_count": 4,
   "metadata": {},
   "outputs": [
    {
     "data": {
      "text/plain": [
       "array([0., 0., 0., 0., 0., 0., 0., 0., 0., 0.])"
      ]
     },
     "execution_count": 4,
     "metadata": {},
     "output_type": "execute_result"
    }
   ],
   "source": [
    "null_array(10)"
   ]
  },
  {
   "cell_type": "code",
   "execution_count": 6,
   "metadata": {},
   "outputs": [
    {
     "name": "stdout",
     "output_type": "stream",
     "text": [
      "[0. 0. 0. 0. 0. 0. 0. 0. 0. 0.]\n"
     ]
    }
   ],
   "source": [
    "array_10=np.zeros(10)\n",
    "print(array_10)"
   ]
  },
  {
   "cell_type": "markdown",
   "metadata": {},
   "source": [
    "#### 4. How to find the memory size of any array"
   ]
  },
  {
   "cell_type": "code",
   "execution_count": 8,
   "metadata": {},
   "outputs": [
    {
     "data": {
      "text/plain": [
       "80"
      ]
     },
     "execution_count": 8,
     "metadata": {},
     "output_type": "execute_result"
    }
   ],
   "source": [
    "size_in_bytes = array_10.nbytes\n",
    "size_in_bytes\n"
   ]
  },
  {
   "cell_type": "code",
   "execution_count": null,
   "metadata": {},
   "outputs": [],
   "source": [
    "# a.nbytes = 1000: gives size of the numerical elements: 1000 numerical elements.\n",
    "# getsizeof(a) = 1128: gives the size of both numerical elements and the reference machinery.\n",
    "# b.nbtyes: the size of the numerical elements independently of the location of memory (is not affected by the view status of b)\n",
    "# getsizeof(b) = 128: only calculate the size of the reference machinery, it is afected by the view status..\n",
    "# getsizeof(b.base) = 1128: This calculate the size of the numerical elements plus the reference machinery independently of the view status."
   ]
  },
  {
   "cell_type": "code",
   "execution_count": 33,
   "metadata": {},
   "outputs": [
    {
     "data": {
      "text/plain": [
       "10"
      ]
     },
     "execution_count": 33,
     "metadata": {},
     "output_type": "execute_result"
    }
   ],
   "source": [
    "np.size(array_10)"
   ]
  },
  {
   "cell_type": "code",
   "execution_count": 34,
   "metadata": {},
   "outputs": [
    {
     "data": {
      "text/plain": [
       "(10,)"
      ]
     },
     "execution_count": 34,
     "metadata": {},
     "output_type": "execute_result"
    }
   ],
   "source": [
    "np.shape(array_10)"
   ]
  },
  {
   "cell_type": "code",
   "execution_count": 35,
   "metadata": {},
   "outputs": [
    {
     "data": {
      "text/plain": [
       "1"
      ]
     },
     "execution_count": 35,
     "metadata": {},
     "output_type": "execute_result"
    }
   ],
   "source": [
    "np.ndim(array_10)"
   ]
  },
  {
   "cell_type": "markdown",
   "metadata": {},
   "source": [
    "#### 5. How to get the documentation of the numpy add function from the command line? (★☆☆)"
   ]
  },
  {
   "cell_type": "code",
   "execution_count": 14,
   "metadata": {},
   "outputs": [
    {
     "name": "stdout",
     "output_type": "stream",
     "text": [
      "add(x1, x2, /, out=None, *, where=True, casting='same_kind', order='K', dtype=None, subok=True[, signature, extobj])\n",
      "\n",
      "Add arguments element-wise.\n",
      "\n",
      "Parameters\n",
      "----------\n",
      "x1, x2 : array_like\n",
      "    The arrays to be added.\n",
      "    If ``x1.shape != x2.shape``, they must be broadcastable to a common\n",
      "    shape (which becomes the shape of the output).\n",
      "out : ndarray, None, or tuple of ndarray and None, optional\n",
      "    A location into which the result is stored. If provided, it must have\n",
      "    a shape that the inputs broadcast to. If not provided or None,\n",
      "    a freshly-allocated array is returned. A tuple (possible only as a\n",
      "    keyword argument) must have length equal to the number of outputs.\n",
      "where : array_like, optional\n",
      "    This condition is broadcast over the input. At locations where the\n",
      "    condition is True, the `out` array will be set to the ufunc result.\n",
      "    Elsewhere, the `out` array will retain its original value.\n",
      "    Note that if an uninitialized `out` array is created via the default\n",
      "    ``out=None``, locations within it where the condition is False will\n",
      "    remain uninitialized.\n",
      "**kwargs\n",
      "    For other keyword-only arguments, see the\n",
      "    :ref:`ufunc docs <ufuncs.kwargs>`.\n",
      "\n",
      "Returns\n",
      "-------\n",
      "add : ndarray or scalar\n",
      "    The sum of `x1` and `x2`, element-wise.\n",
      "    This is a scalar if both `x1` and `x2` are scalars.\n",
      "\n",
      "Notes\n",
      "-----\n",
      "Equivalent to `x1` + `x2` in terms of array broadcasting.\n",
      "\n",
      "Examples\n",
      "--------\n",
      ">>> np.add(1.0, 4.0)\n",
      "5.0\n",
      ">>> x1 = np.arange(9.0).reshape((3, 3))\n",
      ">>> x2 = np.arange(3.0)\n",
      ">>> np.add(x1, x2)\n",
      "array([[  0.,   2.,   4.],\n",
      "       [  3.,   5.,   7.],\n",
      "       [  6.,   8.,  10.]])\n",
      "\n",
      "The ``+`` operator can be used as a shorthand for ``np.add`` on ndarrays.\n",
      "\n",
      ">>> x1 = np.arange(9.0).reshape((3, 3))\n",
      ">>> x2 = np.arange(3.0)\n",
      ">>> x1 + x2\n",
      "array([[ 0.,  2.,  4.],\n",
      "       [ 3.,  5.,  7.],\n",
      "       [ 6.,  8., 10.]])\n",
      "None\n"
     ]
    }
   ],
   "source": [
    "# numpy. add() returns the sum of the two arrays. The return type is either ndarray or scalar , depending on the input type.\n",
    "print(np.info(np.add))"
   ]
  },
  {
   "cell_type": "markdown",
   "metadata": {},
   "source": [
    "#### 6. Create a null vector of size 10 but the fifth value which is 1 (★☆☆)"
   ]
  },
  {
   "cell_type": "code",
   "execution_count": 15,
   "metadata": {},
   "outputs": [
    {
     "data": {
      "text/plain": [
       "array([0, 0, 0, 0, 1, 0, 0, 0, 0, 0])"
      ]
     },
     "execution_count": 15,
     "metadata": {},
     "output_type": "execute_result"
    }
   ],
   "source": [
    "(np.arange(10) == 4).astype(int)"
   ]
  },
  {
   "cell_type": "code",
   "execution_count": 17,
   "metadata": {},
   "outputs": [
    {
     "name": "stdout",
     "output_type": "stream",
     "text": [
      "[0. 0. 0. 0. 1. 0. 0. 0. 0. 0.]\n"
     ]
    }
   ],
   "source": [
    "x=np.zeros(10)\n",
    "x[4]=1\n",
    "print(x)"
   ]
  },
  {
   "cell_type": "markdown",
   "metadata": {},
   "source": [
    "#### 7. Create a vector with values ranging from 10 to 49 (★☆☆)"
   ]
  },
  {
   "cell_type": "code",
   "execution_count": 20,
   "metadata": {},
   "outputs": [
    {
     "data": {
      "text/plain": [
       "array([10, 11, 12, 13, 14, 15, 16, 17, 18, 19, 20, 21, 22, 23, 24, 25, 26,\n",
       "       27, 28, 29, 30, 31, 32, 33, 34, 35, 36, 37, 38, 39, 40, 41, 42, 43,\n",
       "       44, 45, 46, 47, 48])"
      ]
     },
     "execution_count": 20,
     "metadata": {},
     "output_type": "execute_result"
    }
   ],
   "source": [
    "array_vector=np.arange(10,49)\n",
    "array_vector"
   ]
  },
  {
   "cell_type": "markdown",
   "metadata": {},
   "source": [
    "#### 8. Reverse a vector (first element becomes last) (★☆☆)"
   ]
  },
  {
   "cell_type": "code",
   "execution_count": 23,
   "metadata": {},
   "outputs": [
    {
     "data": {
      "text/plain": [
       "array([48, 47, 46, 45, 44, 43, 42, 41, 40, 39, 38, 37, 36, 35, 34, 33, 32,\n",
       "       31, 30, 29, 28, 27, 26, 25, 24, 23, 22, 21, 20, 19, 18, 17, 16, 15,\n",
       "       14, 13, 12, 11, 10])"
      ]
     },
     "execution_count": 23,
     "metadata": {},
     "output_type": "execute_result"
    }
   ],
   "source": [
    "np.flip(array_vector)"
   ]
  },
  {
   "cell_type": "markdown",
   "metadata": {},
   "source": [
    "#### 9. Create a 3x3 matrix with values ranging from 0 to 8 (★☆☆)"
   ]
  },
  {
   "cell_type": "code",
   "execution_count": 26,
   "metadata": {},
   "outputs": [
    {
     "name": "stdout",
     "output_type": "stream",
     "text": [
      "[[1 2 3]\n",
      " [4 5 6]\n",
      " [7 8 9]]\n"
     ]
    }
   ],
   "source": [
    "my_matrix_1=np.array([[1,2,3],[4,5,6],[7,8,9]])\n",
    "print(my_matrix_1)"
   ]
  },
  {
   "cell_type": "code",
   "execution_count": 29,
   "metadata": {},
   "outputs": [
    {
     "data": {
      "text/plain": [
       "array([[1, 2, 3],\n",
       "       [4, 5, 6],\n",
       "       [7, 8, 9]])"
      ]
     },
     "execution_count": 29,
     "metadata": {},
     "output_type": "execute_result"
    }
   ],
   "source": [
    "array_1_10=np.arange(1,10)\n",
    "array_1_10\n",
    "array_1_10.reshape((3,3))"
   ]
  },
  {
   "cell_type": "markdown",
   "metadata": {},
   "source": [
    "#### 10. Find indices of non-zero elements from [1,2,0,0,4,0] (★☆☆)"
   ]
  },
  {
   "cell_type": "code",
   "execution_count": 40,
   "metadata": {},
   "outputs": [
    {
     "data": {
      "text/plain": [
       "array([0, 1, 4], dtype=int64)"
      ]
     },
     "execution_count": 40,
     "metadata": {},
     "output_type": "execute_result"
    }
   ],
   "source": [
    "array_indexes=np.array([1,2,0,0,4,0])\n",
    "np.where(array_indexes!= 0)[0]\n",
    "\n"
   ]
  },
  {
   "cell_type": "markdown",
   "metadata": {},
   "source": [
    "#### 11. Create a 3x3 identity matrix "
   ]
  },
  {
   "cell_type": "code",
   "execution_count": 41,
   "metadata": {},
   "outputs": [
    {
     "data": {
      "text/plain": [
       "array([[1., 0., 0.],\n",
       "       [0., 1., 0.],\n",
       "       [0., 0., 1.]])"
      ]
     },
     "execution_count": 41,
     "metadata": {},
     "output_type": "execute_result"
    }
   ],
   "source": [
    "np.eye(3,3)"
   ]
  },
  {
   "cell_type": "markdown",
   "metadata": {},
   "source": [
    "#### 12. Create a 3x3x3 array with random values"
   ]
  },
  {
   "cell_type": "code",
   "execution_count": 46,
   "metadata": {},
   "outputs": [
    {
     "data": {
      "text/plain": [
       "array([[[0.3098846 , 0.67886831, 0.55808888],\n",
       "        [0.94917659, 0.72947532, 0.485019  ],\n",
       "        [0.90691811, 0.44188025, 0.52548974]],\n",
       "\n",
       "       [[0.24949782, 0.47965793, 0.47856038],\n",
       "        [0.343279  , 0.71148353, 0.51073213],\n",
       "        [0.8093438 , 0.09368703, 0.94469688]],\n",
       "\n",
       "       [[0.58489032, 0.63717034, 0.70253738],\n",
       "        [0.53445275, 0.21241414, 0.97877524],\n",
       "        [0.25281123, 0.93547334, 0.76048303]]])"
      ]
     },
     "execution_count": 46,
     "metadata": {},
     "output_type": "execute_result"
    }
   ],
   "source": [
    "np.random.random((3,3,3))"
   ]
  },
  {
   "cell_type": "code",
   "execution_count": 48,
   "metadata": {},
   "outputs": [
    {
     "data": {
      "text/plain": [
       "array([[[0.19152984, 0.61841637, 0.09877033],\n",
       "        [0.17246854, 0.77427117, 0.23145707],\n",
       "        [0.61434551, 0.49903302, 0.63923144]],\n",
       "\n",
       "       [[0.62995748, 0.7399812 , 0.48900281],\n",
       "        [0.18006637, 0.85818042, 0.32811724],\n",
       "        [0.58784242, 0.52701535, 0.45224692]],\n",
       "\n",
       "       [[0.51027115, 0.86563646, 0.96078288],\n",
       "        [0.10225813, 0.71383723, 0.79964854],\n",
       "        [0.68714747, 0.9283795 , 0.79418336]]])"
      ]
     },
     "execution_count": 48,
     "metadata": {},
     "output_type": "execute_result"
    }
   ],
   "source": [
    "np.random.random(((3,3,3)))"
   ]
  },
  {
   "cell_type": "markdown",
   "metadata": {},
   "source": [
    "### why does it work with different number of parenthesis?"
   ]
  },
  {
   "cell_type": "markdown",
   "metadata": {},
   "source": [
    "#### 13. Create a 10x10 array with random values and find the minimum and maximum values (★☆☆)"
   ]
  },
  {
   "cell_type": "code",
   "execution_count": 61,
   "metadata": {},
   "outputs": [
    {
     "data": {
      "text/plain": [
       "array([[0.40792748, 0.49968455, 0.25800866, 0.46039049, 0.21122342,\n",
       "        0.29162155, 0.52286625, 0.94808217, 0.56839698, 0.6450469 ],\n",
       "       [0.18563056, 0.2503926 , 0.42280672, 0.6200251 , 0.00577852,\n",
       "        0.35481859, 0.85707972, 0.73160718, 0.63813489, 0.10016027],\n",
       "       [0.98251825, 0.97437042, 0.13121028, 0.53389721, 0.87823827,\n",
       "        0.87059015, 0.72325968, 0.68201052, 0.71136126, 0.52314052],\n",
       "       [0.21728869, 0.11962204, 0.58825311, 0.47884261, 0.02265261,\n",
       "        0.62918584, 0.60696972, 0.14904581, 0.14856874, 0.4773505 ],\n",
       "       [0.58462475, 0.78279191, 0.1037192 , 0.99701491, 0.35308439,\n",
       "        0.5276319 , 0.87525352, 0.89475811, 0.17620176, 0.29634161],\n",
       "       [0.8798272 , 0.92215316, 0.62587397, 0.41346676, 0.25890665,\n",
       "        0.23860633, 0.50283452, 0.54976001, 0.07358496, 0.66727056],\n",
       "       [0.85630024, 0.05372276, 0.63709147, 0.46343511, 0.88217803,\n",
       "        0.33171902, 0.75714314, 0.09480299, 0.68810234, 0.10304697],\n",
       "       [0.99513731, 0.01411152, 0.41434756, 0.64443313, 0.67880035,\n",
       "        0.12736954, 0.76812382, 0.47632157, 0.81566467, 0.88221521],\n",
       "       [0.27773188, 0.48930958, 0.26921223, 0.14526294, 0.07706297,\n",
       "        0.44894711, 0.31527492, 0.04853952, 0.7467927 , 0.5403839 ],\n",
       "       [0.42640422, 0.73546705, 0.7027975 , 0.10177314, 0.66311032,\n",
       "        0.70704515, 0.46004962, 0.35689696, 0.23302326, 0.90074637]])"
      ]
     },
     "execution_count": 61,
     "metadata": {},
     "output_type": "execute_result"
    }
   ],
   "source": [
    "array_max_min=np.random.random((10,10))\n",
    "array_max_min"
   ]
  },
  {
   "cell_type": "code",
   "execution_count": 53,
   "metadata": {},
   "outputs": [
    {
     "data": {
      "text/plain": [
       "0.0058230662857895465"
      ]
     },
     "execution_count": 53,
     "metadata": {},
     "output_type": "execute_result"
    }
   ],
   "source": [
    "np.min(array_max_min)"
   ]
  },
  {
   "cell_type": "code",
   "execution_count": 54,
   "metadata": {},
   "outputs": [
    {
     "data": {
      "text/plain": [
       "0.9989298739202296"
      ]
     },
     "execution_count": 54,
     "metadata": {},
     "output_type": "execute_result"
    }
   ],
   "source": [
    "np.max(array_max_min)"
   ]
  },
  {
   "cell_type": "code",
   "execution_count": 64,
   "metadata": {},
   "outputs": [
    {
     "data": {
      "text/plain": [
       "array([[ 7.64237721e-01,  1.97307605e+00,  1.20067784e+00,\n",
       "         1.69483259e+00,  1.80594308e-01, -4.21451511e-01,\n",
       "         6.14971929e-01,  5.66834541e-01,  4.46405263e-01,\n",
       "         1.15379661e+00],\n",
       "       [-8.16321741e-01,  1.46953113e+00, -6.45130883e-01,\n",
       "         8.04334566e-01,  5.23280946e-01,  5.20873474e-01,\n",
       "         9.58702461e-01,  3.17516243e-01,  1.22760340e+00,\n",
       "        -5.08483265e-01],\n",
       "       [ 1.03564273e+00, -9.70421249e-01, -2.28129098e-01,\n",
       "         9.62009097e-01,  2.83380504e-01, -1.92611953e-01,\n",
       "         1.19364281e-01, -3.37413764e-01, -1.63120446e-01,\n",
       "        -1.10724489e-01],\n",
       "       [ 1.49272501e-01,  5.39304077e-01,  4.06057270e-01,\n",
       "        -1.05769928e+00,  5.11732723e-01,  9.78819506e-01,\n",
       "        -1.16467635e-01, -1.56157568e+00, -3.85906807e-01,\n",
       "        -3.02684699e-01],\n",
       "       [-1.30328899e+00,  9.30247832e-01, -9.98085289e-01,\n",
       "         5.42706453e-02, -2.15892362e+00, -1.67049339e-01,\n",
       "        -2.69997103e+00,  6.51933500e-01,  9.81122372e-01,\n",
       "        -7.94124163e-01],\n",
       "       [-8.73280789e-01, -4.61668562e-01, -6.16921288e-01,\n",
       "         6.88432750e-01, -5.01484386e-01,  1.26293895e+00,\n",
       "        -1.04374746e+00, -1.18586268e+00,  9.36364842e-01,\n",
       "         1.04456391e+00],\n",
       "       [ 1.96531071e-01,  1.22830610e+00,  1.82663911e-01,\n",
       "         1.69511149e+00, -2.16356756e+00, -1.16245654e-01,\n",
       "        -8.73022263e-01, -1.42916186e+00, -2.18153346e-03,\n",
       "        -5.64919809e-01],\n",
       "       [ 6.84598712e-01,  3.05015395e-03,  5.16202233e-01,\n",
       "        -3.46226042e-02, -1.23596302e+00,  1.62784478e-01,\n",
       "         2.57211795e+00, -2.25038957e-01, -6.92078595e-01,\n",
       "         1.96676601e+00],\n",
       "       [ 3.81683085e-01, -2.90212677e-01, -1.56057133e+00,\n",
       "        -1.06979416e+00, -7.96454528e-01, -3.68764965e-01,\n",
       "         1.50290246e-01, -1.08691166e+00, -5.11580732e-01,\n",
       "         7.20433555e-01],\n",
       "       [-1.67491135e-02, -2.39064114e-02,  3.28446587e-02,\n",
       "         3.65034907e-01, -2.35832261e+00, -4.03931793e-01,\n",
       "         2.79062498e-01,  5.31305223e-01, -1.72755750e+00,\n",
       "         8.31209365e-01]])"
      ]
     },
     "execution_count": 64,
     "metadata": {},
     "output_type": "execute_result"
    }
   ],
   "source": [
    "# trying with integer random numbers\n",
    "np.random.randn(10,10)"
   ]
  },
  {
   "cell_type": "code",
   "execution_count": 77,
   "metadata": {},
   "outputs": [
    {
     "data": {
      "text/plain": [
       "array([[85, 94,  4, 83, 64, 50, 36, 50, 37, 74],\n",
       "       [84,  5, 62, 70, 17, 17, 35, 37, 93, 80],\n",
       "       [18, 71, 54, 16, 85, 28, 40,  7, 25,  8],\n",
       "       [10, 14, 98, 81, 12, 86, 86, 23, 25, 39],\n",
       "       [89, 66, 47, 72, 26,  2, 41, 40, 13, 35],\n",
       "       [28, 71, 71, 92, 80, 69, 48, 77,  2, 61],\n",
       "       [ 1, 18, 77, 81, 36, 11, 74, 75, 15, 85],\n",
       "       [66, 12, 73, 47, 14, 78, 93, 91, 28, 73],\n",
       "       [74, 36, 25, 72, 16, 14, 48, 91, 99, 73],\n",
       "       [19, 46, 26, 70, 11, 67, 10, 64, 84,  7]])"
      ]
     },
     "execution_count": 77,
     "metadata": {},
     "output_type": "execute_result"
    }
   ],
   "source": [
    "# another try\n",
    "matrix_random_int=np.random.randint(1,100,(10,10))\n",
    "matrix_random_int"
   ]
  },
  {
   "cell_type": "code",
   "execution_count": 78,
   "metadata": {},
   "outputs": [
    {
     "data": {
      "text/plain": [
       "1"
      ]
     },
     "execution_count": 78,
     "metadata": {},
     "output_type": "execute_result"
    }
   ],
   "source": [
    "np.min(matrix_random_int)"
   ]
  },
  {
   "cell_type": "code",
   "execution_count": 81,
   "metadata": {},
   "outputs": [
    {
     "data": {
      "text/plain": [
       "99"
      ]
     },
     "execution_count": 81,
     "metadata": {},
     "output_type": "execute_result"
    }
   ],
   "source": [
    "np.max(matrix_random_int)"
   ]
  },
  {
   "cell_type": "code",
   "execution_count": 82,
   "metadata": {},
   "outputs": [
    {
     "data": {
      "text/plain": [
       "88"
      ]
     },
     "execution_count": 82,
     "metadata": {},
     "output_type": "execute_result"
    }
   ],
   "source": [
    "# find the index of the max and min element in an integer matrix \n",
    "np.argmax(matrix_random_int)"
   ]
  },
  {
   "cell_type": "code",
   "execution_count": 83,
   "metadata": {},
   "outputs": [
    {
     "data": {
      "text/plain": [
       "60"
      ]
     },
     "execution_count": 83,
     "metadata": {},
     "output_type": "execute_result"
    }
   ],
   "source": [
    "np.argmin(matrix_random_int)"
   ]
  },
  {
   "cell_type": "markdown",
   "metadata": {},
   "source": [
    "#### 14. Create a random vector of size 30 and find the mean value (★☆☆)"
   ]
  },
  {
   "cell_type": "code",
   "execution_count": 4,
   "metadata": {},
   "outputs": [
    {
     "data": {
      "text/plain": [
       "array([0.8898465 , 0.75856538, 0.84137379, 0.09850747, 0.82694833,\n",
       "       0.59829545, 0.40906481, 0.65566043, 0.16143769, 0.87644442,\n",
       "       0.03985936, 0.38706787, 0.6090439 , 0.55019992, 0.60642767,\n",
       "       0.40558868, 0.84258061, 0.24929568, 0.63340421, 0.21651103,\n",
       "       0.2240166 , 0.93648061, 0.88278386, 0.90553855, 0.94874911,\n",
       "       0.56562815, 0.19776126, 0.07176821, 0.74771306, 0.58970034])"
      ]
     },
     "execution_count": 4,
     "metadata": {},
     "output_type": "execute_result"
    }
   ],
   "source": [
    "import numpy as np\n",
    "random_30=np.random.random(30)\n",
    "random_30\n"
   ]
  },
  {
   "cell_type": "code",
   "execution_count": 5,
   "metadata": {},
   "outputs": [
    {
     "data": {
      "text/plain": [
       "0.5575420985850722"
      ]
     },
     "execution_count": 5,
     "metadata": {},
     "output_type": "execute_result"
    }
   ],
   "source": [
    "np.mean(random_30)"
   ]
  },
  {
   "cell_type": "code",
   "execution_count": 7,
   "metadata": {},
   "outputs": [
    {
     "data": {
      "text/plain": [
       "array([57, 57, 59, 71, 99, 44, 50, 45, 79, 26, 24, 52, 83, 31, 60, 18, 93,\n",
       "       37, 71, 57, 53, 32, 76,  8, 83, 84, 99, 87, 73, 86])"
      ]
     },
     "execution_count": 7,
     "metadata": {},
     "output_type": "execute_result"
    }
   ],
   "source": [
    "#random with int\n",
    "random_30_int=np.random.randint(1,100,30)\n",
    "random_30_int"
   ]
  },
  {
   "cell_type": "code",
   "execution_count": 8,
   "metadata": {},
   "outputs": [
    {
     "data": {
      "text/plain": [
       "59.8"
      ]
     },
     "execution_count": 8,
     "metadata": {},
     "output_type": "execute_result"
    }
   ],
   "source": [
    "np.mean(random_30_int)"
   ]
  },
  {
   "cell_type": "markdown",
   "metadata": {},
   "source": [
    "#### 15. Create a 2d array with 1 on the border and 0 inside (★☆☆)"
   ]
  },
  {
   "cell_type": "code",
   "execution_count": 13,
   "metadata": {},
   "outputs": [
    {
     "name": "stdout",
     "output_type": "stream",
     "text": [
      "[[1. 1. 1. 1. 1.]\n",
      " [1. 0. 0. 0. 1.]\n",
      " [1. 0. 0. 0. 1.]\n",
      " [1. 0. 0. 0. 1.]\n",
      " [1. 1. 1. 1. 1.]]\n"
     ]
    }
   ],
   "source": [
    "matrix_border1_inside0=np.ones((5,5))\n",
    "matrix_border1_inside0[1:-1, 1:-1] = 0\n",
    "print(matrix_border1_inside0)"
   ]
  },
  {
   "cell_type": "markdown",
   "metadata": {},
   "source": [
    "#### 16. How to add a border (filled with 0's) around an existing array? (★☆☆)"
   ]
  },
  {
   "cell_type": "code",
   "execution_count": 42,
   "metadata": {},
   "outputs": [
    {
     "name": "stdout",
     "output_type": "stream",
     "text": [
      "[[0. 0. 0. 0. 0.]\n",
      " [0. 1. 1. 1. 0.]\n",
      " [0. 1. 1. 1. 0.]\n",
      " [0. 1. 1. 1. 0.]\n",
      " [0. 0. 0. 0. 0.]]\n"
     ]
    }
   ],
   "source": [
    "matrix_ones=np.ones((5,5))\n",
    "matrix_ones\n",
    "matrix_ones[0:5,0:1]=0\n",
    "matrix_ones[0:5,4:5]=0\n",
    "matrix_ones[:1,1:4]=0\n",
    "matrix_ones[4:5,1:4]=0\n",
    "\n",
    "\n",
    "print(matrix_ones)\n",
    "\n"
   ]
  },
  {
   "cell_type": "code",
   "execution_count": 84,
   "metadata": {},
   "outputs": [
    {
     "data": {
      "text/plain": [
       "array([[4, 4, 4, 0, 1],\n",
       "       [0, 4, 4, 4, 0],\n",
       "       [0, 0, 0, 1, 0],\n",
       "       [0, 1, 0, 0, 2],\n",
       "       [1, 0, 2, 4, 3]])"
      ]
     },
     "execution_count": 84,
     "metadata": {},
     "output_type": "execute_result"
    }
   ],
   "source": [
    "# adding one more layer of 0s\n",
    "\n",
    "matrix_random15=np.random.randint(0,5,(5,5))\n",
    "matrix_random15"
   ]
  },
  {
   "cell_type": "code",
   "execution_count": 85,
   "metadata": {},
   "outputs": [],
   "source": [
    "matrix_random15=np.pad(matrix_random15, pad_width=2, mode=\"constant\", constant_values=0)"
   ]
  },
  {
   "cell_type": "code",
   "execution_count": 86,
   "metadata": {},
   "outputs": [
    {
     "data": {
      "text/plain": [
       "array([[0, 0, 0, 0, 0, 0, 0, 0, 0],\n",
       "       [0, 0, 0, 0, 0, 0, 0, 0, 0],\n",
       "       [0, 0, 4, 4, 4, 0, 1, 0, 0],\n",
       "       [0, 0, 0, 4, 4, 4, 0, 0, 0],\n",
       "       [0, 0, 0, 0, 0, 1, 0, 0, 0],\n",
       "       [0, 0, 0, 1, 0, 0, 2, 0, 0],\n",
       "       [0, 0, 1, 0, 2, 4, 3, 0, 0],\n",
       "       [0, 0, 0, 0, 0, 0, 0, 0, 0],\n",
       "       [0, 0, 0, 0, 0, 0, 0, 0, 0]])"
      ]
     },
     "execution_count": 86,
     "metadata": {},
     "output_type": "execute_result"
    }
   ],
   "source": [
    "matrix_random15"
   ]
  },
  {
   "cell_type": "code",
   "execution_count": 73,
   "metadata": {},
   "outputs": [
    {
     "data": {
      "text/plain": [
       "array([[4, 2, 4, 4, 3, 4, 4, 2, 4],\n",
       "       [1, 0, 0, 0, 1, 1, 0, 0, 1],\n",
       "       [4, 1, 4, 2, 3, 1, 3, 1, 4],\n",
       "       [4, 2, 4, 2, 2, 3, 4, 2, 4],\n",
       "       [4, 0, 0, 4, 1, 3, 0, 0, 4],\n",
       "       [4, 0, 2, 0, 2, 4, 2, 0, 4],\n",
       "       [4, 1, 4, 3, 3, 4, 1, 1, 4],\n",
       "       [1, 0, 0, 0, 1, 1, 0, 0, 1],\n",
       "       [4, 2, 4, 4, 3, 4, 4, 2, 4]])"
      ]
     },
     "execution_count": 73,
     "metadata": {},
     "output_type": "execute_result"
    }
   ],
   "source": [
    "# checking the options of the pad function\n",
    "matrix_random15 = np.pad(matrix_random15, pad_width=1,mode= \"maximum\")\n",
    "matrix_random15"
   ]
  },
  {
   "cell_type": "code",
   "execution_count": null,
   "metadata": {},
   "outputs": [],
   "source": [
    "#### 17. What is the result of the following expression? (★☆☆)\n",
    "#```python\n",
    "# 0 * np.nan\n",
    "# np.nan == np.nan\n",
    "# np.inf > np.nan\n",
    "# np.nan - np.nan\n",
    "# np.nan in set([np.nan])\n",
    "# 0.3 == 3 * 0.1"
   ]
  },
  {
   "cell_type": "code",
   "execution_count": 95,
   "metadata": {},
   "outputs": [
    {
     "data": {
      "text/plain": [
       "False"
      ]
     },
     "execution_count": 95,
     "metadata": {},
     "output_type": "execute_result"
    }
   ],
   "source": [
    "0 * np.nan\n",
    "np.nan == np.nan\n",
    "np.inf > np.nan\n",
    "np.nan - np.nan\n",
    "np.nan in set([np.nan])\n",
    "0.3 == 3 * 0.1\n"
   ]
  },
  {
   "cell_type": "code",
   "execution_count": 87,
   "metadata": {},
   "outputs": [
    {
     "data": {
      "text/plain": [
       "nan"
      ]
     },
     "execution_count": 87,
     "metadata": {},
     "output_type": "execute_result"
    }
   ],
   "source": [
    "0 * np.nan"
   ]
  },
  {
   "cell_type": "code",
   "execution_count": 88,
   "metadata": {},
   "outputs": [
    {
     "data": {
      "text/plain": [
       "False"
      ]
     },
     "execution_count": 88,
     "metadata": {},
     "output_type": "execute_result"
    }
   ],
   "source": [
    "np.nan == np.nan"
   ]
  },
  {
   "cell_type": "code",
   "execution_count": 89,
   "metadata": {},
   "outputs": [
    {
     "data": {
      "text/plain": [
       "False"
      ]
     },
     "execution_count": 89,
     "metadata": {},
     "output_type": "execute_result"
    }
   ],
   "source": [
    "np.inf > np.nan"
   ]
  },
  {
   "cell_type": "code",
   "execution_count": 90,
   "metadata": {},
   "outputs": [
    {
     "data": {
      "text/plain": [
       "nan"
      ]
     },
     "execution_count": 90,
     "metadata": {},
     "output_type": "execute_result"
    }
   ],
   "source": [
    "np.nan - np.nan"
   ]
  },
  {
   "cell_type": "code",
   "execution_count": 91,
   "metadata": {},
   "outputs": [
    {
     "data": {
      "text/plain": [
       "True"
      ]
     },
     "execution_count": 91,
     "metadata": {},
     "output_type": "execute_result"
    }
   ],
   "source": [
    "np.nan in set([np.nan])"
   ]
  },
  {
   "cell_type": "code",
   "execution_count": 92,
   "metadata": {},
   "outputs": [
    {
     "data": {
      "text/plain": [
       "False"
      ]
     },
     "execution_count": 92,
     "metadata": {},
     "output_type": "execute_result"
    }
   ],
   "source": [
    "0.3 == 3 * 0.1"
   ]
  },
  {
   "cell_type": "code",
   "execution_count": null,
   "metadata": {},
   "outputs": [],
   "source": [
    "#### 18. Create a 5x5 matrix with values 1,2,3,4 just below the diagonal "
   ]
  }
 ],
 "metadata": {
  "kernelspec": {
   "display_name": "base",
   "language": "python",
   "name": "python3"
  },
  "language_info": {
   "codemirror_mode": {
    "name": "ipython",
    "version": 3
   },
   "file_extension": ".py",
   "mimetype": "text/x-python",
   "name": "python",
   "nbconvert_exporter": "python",
   "pygments_lexer": "ipython3",
   "version": "3.11.5"
  }
 },
 "nbformat": 4,
 "nbformat_minor": 2
}
