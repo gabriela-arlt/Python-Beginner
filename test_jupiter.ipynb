{
 "cells": [
  {
   "cell_type": "code",
   "execution_count": 250,
   "metadata": {},
   "outputs": [
    {
     "name": "stdout",
     "output_type": "stream",
     "text": [
      "Hello sweeties\n"
     ]
    }
   ],
   "source": [
    "print(\"Hello sweeties\")\n"
   ]
  },
  {
   "cell_type": "code",
   "execution_count": 251,
   "metadata": {},
   "outputs": [
    {
     "data": {
      "text/plain": [
       "'Gabriela'"
      ]
     },
     "execution_count": 251,
     "metadata": {},
     "output_type": "execute_result"
    }
   ],
   "source": [
    "my_name=\"Gabriela\"\n",
    "my_name"
   ]
  },
  {
   "cell_type": "code",
   "execution_count": 252,
   "metadata": {},
   "outputs": [
    {
     "data": {
      "text/plain": [
       "6"
      ]
     },
     "execution_count": 252,
     "metadata": {},
     "output_type": "execute_result"
    }
   ],
   "source": [
    "age=38\n",
    "age\n",
    "julia_age=32\n",
    "age_diff=age-julia_age\n",
    "age_diff\n"
   ]
  },
  {
   "cell_type": "code",
   "execution_count": 4,
   "metadata": {},
   "outputs": [],
   "source": [
    "julia_age=32\n",
    "age=70\n",
    "limit_age=60\n",
    "same=(\"Your age is equal to the age  given\")\n",
    "over_32=(\"Your are older than 32! HORRIBLE!\")\n",
    "child=(\"Your are younger than Julia!\")\n",
    "old= (\"Old\")\n",
    "\n",
    " \n"
   ]
  },
  {
   "cell_type": "markdown",
   "metadata": {},
   "source": []
  },
  {
   "cell_type": "code",
   "execution_count": 6,
   "metadata": {},
   "outputs": [
    {
     "name": "stdout",
     "output_type": "stream",
     "text": [
      "Old\n"
     ]
    }
   ],
   "source": [
    "julia_age=32\n",
    "age=70\n",
    "limit_age=60\n",
    "same=(\"Your age is equal to the age  given\")\n",
    "over_32=(\"Your are older than 32! HORRIBLE!\")\n",
    "child=(\"Your are younger than Julia!\")\n",
    "old= (\"Old\")\n",
    "if age==julia_age:\n",
    " print(same)\n",
    "elif age>julia_age and age<limit_age:\n",
    "    print(over_32)\n",
    "elif age<julia_age:\n",
    "  print(child)\n",
    "else:\n",
    " print(old)"
   ]
  },
  {
   "cell_type": "code",
   "execution_count": 255,
   "metadata": {},
   "outputs": [
    {
     "name": "stdout",
     "output_type": "stream",
     "text": [
      "Andres Patricia\n",
      "Andres\n",
      "Gabi\n",
      "Killian\n",
      "Lucas\n",
      "Muayad\n",
      "Oti\n",
      "Patricia\n"
     ]
    }
   ],
   "source": [
    "my_list=[\"Patricia\", \"Andres\", \"Oti\", \"Lucas\",\"Gabi\", \"Muayad\", \"Killian\"]\n",
    "my_list.sort()\n",
    "print(my_list[0],my_list[-1])\n",
    "for x in my_list:\n",
    "    print(x)"
   ]
  },
  {
   "cell_type": "code",
   "execution_count": 256,
   "metadata": {},
   "outputs": [
    {
     "name": "stdout",
     "output_type": "stream",
     "text": [
      "27 29 30 45 38 33\n",
      "30\n",
      "38\n"
     ]
    }
   ],
   "source": [
    "# 7 print even number in a list usig a for loop\n",
    "#my list of ages\n",
    "my_class_age = [27, 29, 30, 45, 38, 33]\n",
    "print((my_class_age)[0], (my_class_age)[1], (my_class_age)[2], (my_class_age)[3], (my_class_age)[4],(my_class_age)[5])\n",
    "# iterating each number in list\n",
    "for num in my_class_age:\n",
    "    if num % 2 == 0:\n",
    "       print(num)"
   ]
  },
  {
   "cell_type": "code",
   "execution_count": 257,
   "metadata": {},
   "outputs": [
    {
     "name": "stdout",
     "output_type": "stream",
     "text": [
      "30\n",
      "38\n"
     ]
    }
   ],
   "source": [
    "# using while loop for excercose 7\n",
    "#my list of ages\n",
    "my_class_age = [27, 29, 30, 45, 38, 33]\n",
    "num = 0\n",
    " \n",
    "# Uing while loop\n",
    "while(num < len(my_class_age)):\n",
    " \n",
    "    # Cecking condition\n",
    "    if my_class_age[num] % 2 == 0:\n",
    "        print(my_class_age[num])\n",
    " \n",
    "    # increment num\n",
    "    num += 1"
   ]
  },
  {
   "cell_type": "markdown",
   "metadata": {},
   "source": [
    "#Minimum and Maximum number from a list"
   ]
  },
  {
   "cell_type": "code",
   "execution_count": 258,
   "metadata": {},
   "outputs": [
    {
     "name": "stdout",
     "output_type": "stream",
     "text": [
      "Smallest number is: -1 \n",
      " Highest number is: 100\n"
     ]
    }
   ],
   "source": [
    "list_random_numbers=[35,2,-1,22,100,25]\n",
    "list_random_numbers.sort()\n",
    "print(\"Smallest number is:\",list_random_numbers[0],'\\n',  \"Highest number is:\", list_random_numbers[-1])"
   ]
  },
  {
   "cell_type": "code",
   "execution_count": 259,
   "metadata": {},
   "outputs": [
    {
     "name": "stdout",
     "output_type": "stream",
     "text": [
      "-1   100\n"
     ]
    }
   ],
   "source": [
    "print(min(list_random_numbers),\" \", max(list_random_numbers))"
   ]
  },
  {
   "cell_type": "markdown",
   "metadata": {},
   "source": [
    "### 10 Calculate age from year of birth"
   ]
  },
  {
   "cell_type": "code",
   "execution_count": 260,
   "metadata": {},
   "outputs": [
    {
     "name": "stdout",
     "output_type": "stream",
     "text": [
      "25\n",
      "29\n",
      "19\n",
      "14\n",
      "17\n",
      "18\n",
      "30\n",
      "28\n",
      "45\n",
      "16\n"
     ]
    }
   ],
   "source": [
    "# my variant\n",
    "list_year_of_births=[1999, 1995, 2005, 2010, 2007, 2006, 1994, 1996, 1979, 2008]\n",
    "age=0\n",
    "for x in list_year_of_births:\n",
    "        age=2024-x\n",
    "        print(age)\n"
   ]
  },
  {
   "cell_type": "markdown",
   "metadata": {},
   "source": []
  },
  {
   "cell_type": "code",
   "execution_count": 261,
   "metadata": {},
   "outputs": [
    {
     "name": "stdout",
     "output_type": "stream",
     "text": [
      "the age of customer 0  is:  25\n",
      "the age of customer 1  is:  29\n",
      "the age of customer 2  is:  19\n",
      "the age of customer 3  is:  14\n",
      "the age of customer 4  is:  17\n",
      "the age of customer 5  is:  18\n",
      "the age of customer 6  is:  30\n",
      "the age of customer 7  is:  28\n",
      "the age of customer 8  is:  45\n",
      "the age of customer 9  is:  16\n"
     ]
    }
   ],
   "source": [
    "#exercise 10\n",
    "list_BirthYear = [1999, 1995, 2005, 2010, 2007, 2006, 1994, 1996, 1979, 2008]\n",
    "year = 2024\n",
    "for num in list_BirthYear:\n",
    "   customer = year - num\n",
    "   print(\"the age of customer\", list_BirthYear.index(num), \" is: \",  customer)\n",
    "num += 1"
   ]
  },
  {
   "cell_type": "markdown",
   "metadata": {},
   "source": [
    "### 11 Customer names and year of birth"
   ]
  },
  {
   "cell_type": "code",
   "execution_count": 262,
   "metadata": {},
   "outputs": [
    {
     "name": "stdout",
     "output_type": "stream",
     "text": [
      "Bob 25\n",
      "Jack 29\n",
      "Lisa 19\n",
      "Maria 14\n",
      "Ben 17\n",
      "Emma 18\n",
      "Oscar 30\n",
      "Amy 28\n",
      "Paul 45\n",
      "Etta 16\n"
     ]
    }
   ],
   "source": [
    "# Use a loop to iterate over the list and print the name and age of each customer.\n",
    "customer_list = [{\"name\": \"Bob\", \"age\": 1999}, {\"name\": \"Jack\", \"age\": 1995}, {\"name\": \"Lisa\", \"age\": 2005}, {\"name\": \"Maria\", \"age\": 2010}, {\"name\": \"Ben\", \"age\": 2007}, {\"name\": \"Emma\", \"age\": 2006}, {\"name\": \"Oscar\", \"age\": 1994}, {\"name\": \"Amy\", \"age\": 1996}, {\"name\": \"Paul\", \"age\": 1979}, {\"name\": \"Etta\", \"age\": 2008}]\n",
    "a=2024\n",
    "for x in customer_list:\n",
    "    real_age=a-x[\"age\"]\n",
    "    print(x[\"name\"], real_age)"
   ]
  },
  {
   "cell_type": "code",
   "execution_count": 263,
   "metadata": {},
   "outputs": [
    {
     "name": "stdout",
     "output_type": "stream",
     "text": [
      "Bob is 25\n",
      "Jack is 29\n",
      "Lisa is 19\n",
      "Maria is 14\n",
      "Ben is 17\n",
      "Emma is 18\n",
      "Oscar is 30\n",
      "Amy is 28\n",
      "Paul is 45\n",
      "Etta is 16\n"
     ]
    }
   ],
   "source": [
    "customer_list = [{\"name\": \"Bob\", \"age\": 1999}, {\"name\": \"Jack\", \"age\": 1995}, {\"name\": \"Lisa\", \"age\": 2005}, {\"name\": \"Maria\", \"age\": 2010}, {\"name\": \"Ben\", \"age\": 2007}, {\"name\": \"Emma\", \"age\": 2006}, {\"name\": \"Oscar\", \"age\": 1994}, {\"name\": \"Amy\", \"age\": 1996}, {\"name\": \"Paul\", \"age\": 1979}, {\"name\": \"Etta\", \"age\": 2008}]\n",
    "a=2024\n",
    "for x in customer_list:\n",
    "    real_age=a-x[\"age\"]\n",
    "    print(x[\"name\"], \"is\", real_age)"
   ]
  },
  {
   "cell_type": "markdown",
   "metadata": {},
   "source": [
    "### 12 Given a list of ages, remove the youngest and the oldest person."
   ]
  },
  {
   "cell_type": "code",
   "execution_count": 264,
   "metadata": {},
   "outputs": [
    {
     "name": "stdout",
     "output_type": "stream",
     "text": [
      "[11, 12, 13, 14, 20, 23, 24, 25] [11, 12, 13, 14, 20, 23, 24, 25]\n"
     ]
    }
   ],
   "source": [
    "ages = [20, 24, 14, 9, 12, 13, 25, 23, 40, 11]\n",
    "ages.sort()\n",
    "ages.pop(-1)\n",
    "ages.pop(0)\n",
    "ages\n",
    "# using max and min method\n",
    "\n",
    "ages_new = [20, 24, 14, 9, 12, 13, 25, 23, 40, 11]\n",
    "ages_new.remove(max(ages_new))\n",
    "ages_new.remove(min(ages_new))\n",
    "ages_new.sort()\n",
    "ages.sort()\n",
    "print(ages_new, ages)"
   ]
  },
  {
   "cell_type": "markdown",
   "metadata": {},
   "source": [
    "### 13 The task is to create an other list with the common ages."
   ]
  },
  {
   "cell_type": "code",
   "execution_count": 265,
   "metadata": {},
   "outputs": [
    {
     "data": {
      "text/plain": [
       "[10, 13, 15, 16, 18, 19]"
      ]
     },
     "execution_count": 265,
     "metadata": {},
     "output_type": "execute_result"
    }
   ],
   "source": [
    "berlin = [15, 13, 16, 18, 19, 10, 12 ]\n",
    "munich = [7, 13, 15, 20, 19, 18, 10, 16]\n",
    "list(set(munich).intersection(berlin))\n"
   ]
  },
  {
   "cell_type": "code",
   "execution_count": 266,
   "metadata": {},
   "outputs": [
    {
     "name": "stdout",
     "output_type": "stream",
     "text": [
      "[15, 13, 16, 18, 19, 10]\n"
     ]
    }
   ],
   "source": [
    "# with a for loop\n",
    "berlin = [15, 13, 16, 18, 19, 10, 12 ]\n",
    "munich = [7, 13, 15, 20, 19, 18, 10, 16]\n",
    "common_list=[]\n",
    "\n",
    "for x in berlin:\n",
    "    if x in munich:\n",
    "        common_list.append(x)\n",
    "print(common_list)\n",
    "  \n",
    "       "
   ]
  },
  {
   "cell_type": "markdown",
   "metadata": {},
   "source": [
    "### 14 Remove duplicate from a list"
   ]
  },
  {
   "cell_type": "code",
   "execution_count": 267,
   "metadata": {},
   "outputs": [
    {
     "data": {
      "text/plain": [
       "[10, 13, 15, 16, 18, 19]"
      ]
     },
     "execution_count": 267,
     "metadata": {},
     "output_type": "execute_result"
    }
   ],
   "source": [
    "# using list set\n",
    "ages=[15,13,16,18,19,15,10]\n",
    "list(set(ages))\n"
   ]
  },
  {
   "cell_type": "code",
   "execution_count": 268,
   "metadata": {},
   "outputs": [
    {
     "data": {
      "text/plain": [
       "[15, 13, 16, 18, 19, 10]"
      ]
     },
     "execution_count": 268,
     "metadata": {},
     "output_type": "execute_result"
    }
   ],
   "source": [
    "# with a loop-adding items from ome list to another(empty) if they do not exist\n",
    "ages=[15,13,16,18,19,15,10]\n",
    "s = []\n",
    "for i in ages:\n",
    "       if i not in s:\n",
    "          s.append(i)\n",
    "s"
   ]
  },
  {
   "cell_type": "markdown",
   "metadata": {},
   "source": [
    "### 15 Exercise 15\n",
    "\n",
    "Function name: welcome\n",
    "\n",
    "welcome('Evelyn') would print- 'Welcome Evelyn, have a nice day!'\n",
    "\n",
    "welcome('Jost'), it would print - 'Welcome Jost, have a nice day!'"
   ]
  },
  {
   "cell_type": "code",
   "execution_count": 269,
   "metadata": {},
   "outputs": [],
   "source": [
    "def welcome(name):\n",
    "    print(\"Welcome\",name,\", have a great day!\")\n",
    "    print(f\"Welcome {name}, have a nice day!\")"
   ]
  },
  {
   "cell_type": "code",
   "execution_count": 270,
   "metadata": {},
   "outputs": [
    {
     "name": "stdout",
     "output_type": "stream",
     "text": [
      "Welcome People , have a great day!\n",
      "Welcome People, have a nice day!\n"
     ]
    }
   ],
   "source": [
    "welcome(\"People\")"
   ]
  },
  {
   "cell_type": "code",
   "execution_count": 271,
   "metadata": {},
   "outputs": [
    {
     "name": "stdout",
     "output_type": "stream",
     "text": [
      "Welcome children , have a great day!\n",
      "Welcome children, have a nice day!\n"
     ]
    }
   ],
   "source": [
    "welcome(\"children\")"
   ]
  },
  {
   "cell_type": "markdown",
   "metadata": {},
   "source": [
    "### Exercise 16\n",
    "Write a function that takes a string as input and calculates the length.\n",
    "\n",
    "Function name: get_length\n",
    "\n",
    "get_length('Hello') would print / return 5.\n",
    "\n",
    "get_length('Hi') would print / return 2."
   ]
  },
  {
   "cell_type": "code",
   "execution_count": 272,
   "metadata": {},
   "outputs": [],
   "source": [
    "def count_string_length(string_to_be_counted):\n",
    " count=0\n",
    " for letter in string_to_be_counted:\n",
    "    count=count + 1\n",
    " print(count)\n",
    "\n",
    "\n"
   ]
  },
  {
   "cell_type": "code",
   "execution_count": 273,
   "metadata": {},
   "outputs": [
    {
     "name": "stdout",
     "output_type": "stream",
     "text": [
      "11\n"
     ]
    }
   ],
   "source": [
    "count_string_length(\"Crazy stuff\")"
   ]
  },
  {
   "cell_type": "markdown",
   "metadata": {},
   "source": [
    "### 17 Write a function which checks whether a number is even.\n",
    "\n",
    "Function name: check_even\n",
    "\n",
    "check_even(6) would print / return 'Yes'\n",
    "\n",
    "check_even(5) would print / return 'No'"
   ]
  },
  {
   "cell_type": "code",
   "execution_count": 274,
   "metadata": {},
   "outputs": [],
   "source": [
    "def check_even(number):\n",
    "  if number %2==0:\n",
    "    print('YES')\n",
    "  else:\n",
    "    print('NO') "
   ]
  },
  {
   "cell_type": "code",
   "execution_count": 275,
   "metadata": {},
   "outputs": [
    {
     "name": "stdout",
     "output_type": "stream",
     "text": [
      "YES\n"
     ]
    }
   ],
   "source": [
    "check_even(78)"
   ]
  },
  {
   "cell_type": "markdown",
   "metadata": {},
   "source": [
    "### 18 Rewrite exercises 11, 12, 13, 14, 15 in a function."
   ]
  },
  {
   "cell_type": "markdown",
   "metadata": {},
   "source": [
    "## Excercise 11"
   ]
  },
  {
   "cell_type": "code",
   "execution_count": 276,
   "metadata": {},
   "outputs": [
    {
     "name": "stdout",
     "output_type": "stream",
     "text": [
      "Bob is 25\n",
      "Jack is 29\n",
      "Lisa is 19\n",
      "Maria is 14\n",
      "Ben is 17\n",
      "Emma is 18\n",
      "Oscar is 30\n",
      "Amy is 28\n",
      "Paul is 45\n",
      "Etta is 16\n"
     ]
    }
   ],
   "source": [
    "# Use a loop to iterate over the list and print the name and age of each customer.\n",
    "customer_list = [{\"name\": \"Bob\", \"age\": 1999}, {\"name\": \"Jack\", \"age\": 1995}, {\"name\": \"Lisa\", \"age\": 2005}, {\"name\": \"Maria\", \"age\": 2010}, {\"name\": \"Ben\", \"age\": 2007}, {\"name\": \"Emma\", \"age\": 2006}, {\"name\": \"Oscar\", \"age\": 1994}, {\"name\": \"Amy\", \"age\": 1996}, {\"name\": \"Paul\", \"age\": 1979}, {\"name\": \"Etta\", \"age\": 2008}]\n",
    "def function(random_customer_list):\n",
    "   a=2024\n",
    "   for x in random_customer_list:\n",
    "    real_age=a-x[\"age\"]\n",
    "    print(x[\"name\"], \"is\", real_age)\n",
    "\n",
    "   \n",
    "    \n",
    "function(customer_list)"
   ]
  },
  {
   "cell_type": "markdown",
   "metadata": {},
   "source": [
    "## Excercise 12"
   ]
  },
  {
   "cell_type": "code",
   "execution_count": 277,
   "metadata": {},
   "outputs": [
    {
     "data": {
      "text/plain": [
       "[3, 5, 6, 7, 18, 34]"
      ]
     },
     "execution_count": 277,
     "metadata": {},
     "output_type": "execute_result"
    }
   ],
   "source": [
    "def list_no_min_max(list_one):\n",
    "  list_one.sort()\n",
    "  list_one.pop(-1)\n",
    "  list_one.pop(0)\n",
    "  list_one\n",
    "  return list_one\n",
    "\n",
    "\n",
    "\n",
    "list_two=[1,48,3,34,5,6,7,18]\n",
    "list_no_min_max(list_two)\n"
   ]
  },
  {
   "cell_type": "markdown",
   "metadata": {},
   "source": [
    "## Excercise 13\n",
    "\n",
    "\n"
   ]
  },
  {
   "cell_type": "code",
   "execution_count": 278,
   "metadata": {},
   "outputs": [],
   "source": [
    "def list_common_values(list_one,list_two,common_list):\n",
    "    for x in list_one:\n",
    "         if x in list_two:\n",
    "           common_list.append(x)\n",
    "    print(sorted(common_list))"
   ]
  },
  {
   "cell_type": "code",
   "execution_count": 279,
   "metadata": {},
   "outputs": [],
   "source": [
    "berlin = [15, 13, 16, 18, 19, 10, 12 ]\n",
    "munich = [7, 13, 15, 20, 19, 18, 10, 16]\n",
    "common =[]"
   ]
  },
  {
   "cell_type": "code",
   "execution_count": 280,
   "metadata": {},
   "outputs": [
    {
     "name": "stdout",
     "output_type": "stream",
     "text": [
      "[10, 13, 15, 16, 18, 19]\n"
     ]
    }
   ],
   "source": [
    "list_common_values(berlin,munich,common)"
   ]
  },
  {
   "cell_type": "markdown",
   "metadata": {},
   "source": [
    "## Exercise 14\n"
   ]
  },
  {
   "cell_type": "code",
   "execution_count": 281,
   "metadata": {},
   "outputs": [],
   "source": [
    "def function_duplicate_ages(list_ages,list_ages_no_dup):\n",
    "    for i in list_ages:\n",
    "       if i not in list_ages_no_dup:\n",
    "          list_ages_no_dup.append(i)\n",
    "    return sorted(list_ages_no_dup)"
   ]
  },
  {
   "cell_type": "code",
   "execution_count": 282,
   "metadata": {},
   "outputs": [],
   "source": [
    "class_ages=[15,13,16,18,19,15,10]\n",
    "class_ages_no_dup=[]"
   ]
  },
  {
   "cell_type": "code",
   "execution_count": 283,
   "metadata": {},
   "outputs": [
    {
     "data": {
      "text/plain": [
       "[10, 13, 15, 16, 18, 19]"
      ]
     },
     "execution_count": 283,
     "metadata": {},
     "output_type": "execute_result"
    }
   ],
   "source": [
    "function_duplicate_ages(class_ages,class_ages_no_dup)"
   ]
  },
  {
   "cell_type": "markdown",
   "metadata": {},
   "source": [
    "## Exercise 19\n",
    "Write a function that takes an input list and value of age to find as input and return true or false if the age value is present or not in the list."
   ]
  },
  {
   "cell_type": "code",
   "execution_count": 284,
   "metadata": {},
   "outputs": [],
   "source": [
    "\n",
    "def check_input_list(age,list_ages):\n",
    "        if age in list_ages:\n",
    "         print(\"True\")\n",
    "        else:\n",
    "         print(\"False\")\n",
    "        \n"
   ]
  },
  {
   "cell_type": "code",
   "execution_count": 285,
   "metadata": {},
   "outputs": [
    {
     "name": "stdout",
     "output_type": "stream",
     "text": [
      "True\n"
     ]
    }
   ],
   "source": [
    "test_ages=[7,32,26]\n",
    "check_input_list(int(input(\"Age?:\")),test_ages)"
   ]
  },
  {
   "cell_type": "markdown",
   "metadata": {},
   "source": [
    "## Python Workshop chocoBury Cookies"
   ]
  },
  {
   "cell_type": "code",
   "execution_count": 8,
   "metadata": {},
   "outputs": [
    {
     "name": "stdout",
     "output_type": "stream",
     "text": [
      "Ages are:\n",
      "20, 24, 14, 9, 12, 13, 25, 23, 40, 11, "
     ]
    }
   ],
   "source": [
    "# Q1\n",
    "# launched 2019\n",
    "#list of ages=[1898, 1995, 2005, 2010, 2007, 2006, 1994, 1996, 1979, 2008]\n",
    "# The task is to write a function that returns the age of customers.\n",
    "\n",
    "list_of_years= [1999, 1995, 2005, 2010, 2007, 2006, 1994, 1996, 1979, 2008]\n",
    "print(\"Ages are:\")\n",
    "for y in list_of_years:\n",
    "   age=2019-y\n",
    "   print(age, end=\", \")\n",
    "\n",
    "    \n",
    "\n",
    "  "
   ]
  },
  {
   "cell_type": "code",
   "execution_count": 287,
   "metadata": {},
   "outputs": [
    {
     "name": "stdout",
     "output_type": "stream",
     "text": [
      "[20, 14, 12, 13, 23, 11]\n"
     ]
    }
   ],
   "source": [
    "## Q2\n",
    "## outliers are youngest and oldest\n",
    "## we need to remove the outliers\n",
    "all_ages=[20, 24, 14, 9, 12, 13, 25, 23, 40, 11]\n",
    "age_min = all_ages [0]\n",
    "age_max = all_ages [0]\n",
    "for num in all_ages:\n",
    "        if num < age_min:\n",
    "            age_min = num\n",
    "            all_ages.remove(age_min)\n",
    "        if num > age_max:\n",
    "            age_max = num\n",
    "            all_ages.remove(age_max)\n",
    "print(all_ages)"
   ]
  },
  {
   "cell_type": "markdown",
   "metadata": {},
   "source": [
    "## The Above is WRONG, why?"
   ]
  },
  {
   "cell_type": "code",
   "execution_count": 288,
   "metadata": {},
   "outputs": [
    {
     "data": {
      "text/plain": [
       "[11, 12, 13, 14, 20, 23, 24, 25]"
      ]
     },
     "execution_count": 288,
     "metadata": {},
     "output_type": "execute_result"
    }
   ],
   "source": [
    "all_ages=[20, 24, 14, 9, 12, 13, 25, 23, 40, 11]\n",
    "all_ages.sort()\n",
    "all_ages.pop(0)\n",
    "all_ages.pop(-1)\n",
    "all_ages"
   ]
  },
  {
   "cell_type": "code",
   "execution_count": 289,
   "metadata": {},
   "outputs": [
    {
     "name": "stdout",
     "output_type": "stream",
     "text": [
      "[15, 13, 16, 18, 19, 10]\n"
     ]
    }
   ],
   "source": [
    "### Q3\n",
    "# berlin = [15, 13, 16, 18, 19, 10, 12 ]\n",
    "# munich = [7, 13, 15, 20, 19, 18, 10, 16]\n",
    "#common age value?\n",
    "berlin = [15, 13, 16, 18, 19, 10, 12 ]\n",
    "munich = [7, 13, 15, 20, 19, 18, 10, 16]\n",
    "common = []\n",
    "for x in berlin:\n",
    "    if x in munich:\n",
    "      common.append(x)\n",
    "print(common)\n"
   ]
  },
  {
   "cell_type": "code",
   "execution_count": 290,
   "metadata": {},
   "outputs": [],
   "source": [
    "#### Q4\n",
    "\"\"\" The task is to write a function that takes the list with duplicate values as input and\n",
    "return the list with unique age values.\"\"\"\n",
    "\n",
    "def no_duplicates(list_with_duplicates,new_list):\n",
    "    for age in list_with_duplicates:\n",
    "        if age not in new_list:\n",
    "            new_list.append(age)\n",
    "    print(new_list)\n",
    "    "
   ]
  },
  {
   "cell_type": "code",
   "execution_count": 291,
   "metadata": {},
   "outputs": [
    {
     "name": "stdout",
     "output_type": "stream",
     "text": [
      "[34, 55, 56, 12, 47, 40]\n"
     ]
    }
   ],
   "source": [
    "random_list=[34,34,55,56,12,47,40,12]\n",
    "no_duplicates(random_list,[])"
   ]
  },
  {
   "cell_type": "code",
   "execution_count": 292,
   "metadata": {},
   "outputs": [],
   "source": [
    "##### Q5\n",
    "\"\"\"The task is to write a function that takes an input list and value of age to find as input\n",
    "and return true or false if the age value is present or not.\"\"\"\n",
    "\n",
    "def check_age(random_list):\n",
    "    age=int(input())\n",
    "    if age in random_list:\n",
    "        print(\"True\")\n",
    "    else:\n",
    "        print(\"False\")\n",
    "                      "
   ]
  },
  {
   "cell_type": "code",
   "execution_count": 293,
   "metadata": {},
   "outputs": [
    {
     "name": "stdout",
     "output_type": "stream",
     "text": [
      "False\n"
     ]
    }
   ],
   "source": [
    "ages_course_January2024=[38, 25, 29, 30, 46, 27]\n",
    "check_age(ages_course_January2024)"
   ]
  },
  {
   "cell_type": "markdown",
   "metadata": {},
   "source": [
    "###  SET 1: Intermediate level\n"
   ]
  },
  {
   "cell_type": "markdown",
   "metadata": {},
   "source": [
    "1. You are given an array (which will have a length of at least 3, but could be very\n",
    "large) containing integers. The array is either entirely comprised of odd integers or\n",
    "entirely comprised of even integers except for a single integer N.\n",
    "\n",
    "Write a method that takes the array as an argument and returns this “outlier” N.\n",
    "\n",
    "Sample test cases:\n",
    "[2, 4, 0, 100, 4, 11, 2602, 36]\n",
    "Should return: 11 (the only odd number)\n",
    "\n",
    "[160, 3, 1719, 19, 11, 13, -21]\n",
    "Should return: 160 (the only even number)\n",
    "\n",
    "find_outlier([2, 4, 6, 8, 10, 3])\n",
    "Should return: 3"
   ]
  },
  {
   "cell_type": "code",
   "execution_count": 297,
   "metadata": {},
   "outputs": [
    {
     "name": "stdout",
     "output_type": "stream",
     "text": [
      "11\n"
     ]
    }
   ],
   "source": [
    "# Should return: 11 (the only odd number)\n",
    "array=[2, 4, 0, 100, 4, 11, 2602, 36]\n",
    "for x in array:\n",
    "   if x % 2!=0:\n",
    "    print(x)\n",
    "\n"
   ]
  },
  {
   "cell_type": "code",
   "execution_count": 299,
   "metadata": {},
   "outputs": [
    {
     "name": "stdout",
     "output_type": "stream",
     "text": [
      "160\n"
     ]
    }
   ],
   "source": [
    "# Should return: 160 (the only even number)\n",
    "random_number=[160, 3, 1719, 19, 11, 13, -21]\n",
    "for x in random_number:\n",
    "    if x %2==0:\n",
    "     print(x)"
   ]
  },
  {
   "cell_type": "code",
   "execution_count": 333,
   "metadata": {},
   "outputs": [],
   "source": [
    "# find_outlier:Should return: 3\n",
    "# using COUNTER\n",
    "from collections import Counter\n",
    "\n",
    "def find_parity_outliers(nums):\n",
    "  return [\n",
    "    x for x in nums\n",
    "    if x % 2 != Counter([n % 2 for n in nums]).most_common()[0][0]\n",
    "  ]\n",
    "\n",
    "\n",
    "\n"
   ]
  },
  {
   "cell_type": "code",
   "execution_count": 335,
   "metadata": {},
   "outputs": [
    {
     "data": {
      "text/plain": [
       "[3]"
      ]
     },
     "execution_count": 335,
     "metadata": {},
     "output_type": "execute_result"
    }
   ],
   "source": [
    "list_5=[2, 4, 6, 8, 10, 3]\n",
    "find_parity_outliers(list_5)\n"
   ]
  },
  {
   "cell_type": "code",
   "execution_count": 336,
   "metadata": {},
   "outputs": [],
   "source": [
    "# solution 2\n",
    "\n",
    "def find_outlier(x):\n",
    "    odd = [i for i in x if i % 2 != 0]\n",
    "    even = [i for i in x if i % 2 == 0]\n",
    "    return odd[0] if len(odd) < len(even)else even[0]"
   ]
  },
  {
   "cell_type": "markdown",
   "metadata": {},
   "source": []
  },
  {
   "cell_type": "code",
   "execution_count": 338,
   "metadata": {},
   "outputs": [
    {
     "data": {
      "text/plain": [
       "160"
      ]
     },
     "execution_count": 338,
     "metadata": {},
     "output_type": "execute_result"
    }
   ],
   "source": [
    "find_outlier(random_number)"
   ]
  },
  {
   "cell_type": "code",
   "execution_count": 344,
   "metadata": {},
   "outputs": [],
   "source": [
    "# another_try 3\n",
    "def gabi_test(any_list):\n",
    "    odd_list=[]\n",
    "    even_list=[]\n",
    "    for x in any_list:\n",
    "        if x % 2 != 0:\n",
    "            odd_list.append(x)\n",
    "        if x % 2 == 0:\n",
    "            even_list.append(x)\n",
    "    return odd_list[0] if len(odd_list) <len(even_list) else even_list[0]\n",
    "\n",
    "\n"
   ]
  },
  {
   "cell_type": "code",
   "execution_count": 345,
   "metadata": {},
   "outputs": [
    {
     "data": {
      "text/plain": [
       "3"
      ]
     },
     "execution_count": 345,
     "metadata": {},
     "output_type": "execute_result"
    }
   ],
   "source": [
    "gabi_test(list_5)"
   ]
  }
 ],
 "metadata": {
  "kernelspec": {
   "display_name": "base",
   "language": "python",
   "name": "python3"
  },
  "language_info": {
   "codemirror_mode": {
    "name": "ipython",
    "version": 3
   },
   "file_extension": ".py",
   "mimetype": "text/x-python",
   "name": "python",
   "nbconvert_exporter": "python",
   "pygments_lexer": "ipython3",
   "version": "3.11.5"
  }
 },
 "nbformat": 4,
 "nbformat_minor": 2
}
